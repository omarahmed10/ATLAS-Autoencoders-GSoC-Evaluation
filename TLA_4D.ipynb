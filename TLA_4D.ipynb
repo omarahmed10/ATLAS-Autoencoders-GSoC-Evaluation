{
 "cells": [
  {
   "cell_type": "markdown",
   "metadata": {
    "id": "P3nkDLTrak5e"
   },
   "source": [
    "In this notebook, we will run a ready-made network starting from some ATLAS data, which is already normalized. There is also an alternative to train the network from scratch.  "
   ]
  },
  {
   "cell_type": "markdown",
   "metadata": {
    "id": "pmpiUkvMak5j"
   },
   "source": [
    "## Look into the dataset"
   ]
  },
  {
   "cell_type": "markdown",
   "metadata": {
    "id": "adnt_AEUak5k"
   },
   "source": [
    "First we need to make sure that Python 3.8 is used in the notebook. It is required in order to open this certain .pkl-file. "
   ]
  },
  {
   "cell_type": "code",
   "execution_count": 1,
   "metadata": {
    "colab": {
     "base_uri": "https://localhost:8080/",
     "height": 35
    },
    "id": "NA0TZ6Ewak5k",
    "outputId": "6f8d6437-aa12-4931-adbb-a0570a2eb1db"
   },
   "outputs": [
    {
     "data": {
      "text/plain": [
       "'3.8.5 (default, Jan 27 2021, 15:41:15) \\n[GCC 9.3.0]'"
      ]
     },
     "execution_count": 1,
     "metadata": {},
     "output_type": "execute_result"
    }
   ],
   "source": [
    "import sys\n",
    "sys.version"
   ]
  },
  {
   "cell_type": "code",
   "execution_count": 2,
   "metadata": {
    "id": "QnP9dKIqm9MG"
   },
   "outputs": [
    {
     "data": {
      "text/html": [
       "<div>\n",
       "<style scoped>\n",
       "    .dataframe tbody tr th:only-of-type {\n",
       "        vertical-align: middle;\n",
       "    }\n",
       "\n",
       "    .dataframe tbody tr th {\n",
       "        vertical-align: top;\n",
       "    }\n",
       "\n",
       "    .dataframe thead th {\n",
       "        text-align: right;\n",
       "    }\n",
       "</style>\n",
       "<table border=\"1\" class=\"dataframe\">\n",
       "  <thead>\n",
       "    <tr style=\"text-align: right;\">\n",
       "      <th></th>\n",
       "      <th>5</th>\n",
       "      <th>6</th>\n",
       "      <th>7</th>\n",
       "      <th>8</th>\n",
       "      <th>9</th>\n",
       "      <th>10</th>\n",
       "      <th>11</th>\n",
       "      <th>12</th>\n",
       "      <th>13</th>\n",
       "      <th>14</th>\n",
       "      <th>15</th>\n",
       "      <th>16</th>\n",
       "      <th>17</th>\n",
       "    </tr>\n",
       "  </thead>\n",
       "  <tbody>\n",
       "    <tr>\n",
       "      <th>0</th>\n",
       "      <td>b,947383,824498,-0.523103,1.64421</td>\n",
       "      <td>j,258722,243675,0.328962,2.25014</td>\n",
       "      <td>j,520092,108590,-2.2473,-1.85679</td>\n",
       "      <td>j,383024,88405.6,2.14516,-1.95635</td>\n",
       "      <td>j,39507.6,35365.1,0.47046,-1.16445</td>\n",
       "      <td>j,225430,26878.2,-2.81608,-2.25938</td>\n",
       "      <td></td>\n",
       "      <td>None</td>\n",
       "      <td>None</td>\n",
       "      <td>None</td>\n",
       "      <td>None</td>\n",
       "      <td>None</td>\n",
       "      <td>None</td>\n",
       "    </tr>\n",
       "    <tr>\n",
       "      <th>1</th>\n",
       "      <td>j,1.06946e+06,751597,0.858186,-1.84217</td>\n",
       "      <td>j,457647,110079,2.10287,2.17501</td>\n",
       "      <td>j,49649.1,30875.2,-1.03189,-1.7992</td>\n",
       "      <td></td>\n",
       "      <td>None</td>\n",
       "      <td>None</td>\n",
       "      <td>None</td>\n",
       "      <td>None</td>\n",
       "      <td>None</td>\n",
       "      <td>None</td>\n",
       "      <td>None</td>\n",
       "      <td>None</td>\n",
       "      <td>None</td>\n",
       "    </tr>\n",
       "    <tr>\n",
       "      <th>2</th>\n",
       "      <td>j,676000,640429,0.33045,0.704554</td>\n",
       "      <td>j,1.2393e+06,602104,1.34324,-0.550856</td>\n",
       "      <td>j,193865,44825.7,-2.14231,-0.965933</td>\n",
       "      <td>j,28217.2,24926.6,-0.454264,0.516676</td>\n",
       "      <td></td>\n",
       "      <td>None</td>\n",
       "      <td>None</td>\n",
       "      <td>None</td>\n",
       "      <td>None</td>\n",
       "      <td>None</td>\n",
       "      <td>None</td>\n",
       "      <td>None</td>\n",
       "      <td>None</td>\n",
       "    </tr>\n",
       "    <tr>\n",
       "      <th>3</th>\n",
       "      <td>j,936707,616229,0.973383,-1.56592</td>\n",
       "      <td>j,75998,52304.3,0.905489,-0.806736</td>\n",
       "      <td></td>\n",
       "      <td>None</td>\n",
       "      <td>None</td>\n",
       "      <td>None</td>\n",
       "      <td>None</td>\n",
       "      <td>None</td>\n",
       "      <td>None</td>\n",
       "      <td>None</td>\n",
       "      <td>None</td>\n",
       "      <td>None</td>\n",
       "      <td>None</td>\n",
       "    </tr>\n",
       "    <tr>\n",
       "      <th>4</th>\n",
       "      <td>j,640313,589524,0.390749,1.23734</td>\n",
       "      <td>j,332790,126272,1.61998,-1.85524</td>\n",
       "      <td></td>\n",
       "      <td>None</td>\n",
       "      <td>None</td>\n",
       "      <td>None</td>\n",
       "      <td>None</td>\n",
       "      <td>None</td>\n",
       "      <td>None</td>\n",
       "      <td>None</td>\n",
       "      <td>None</td>\n",
       "      <td>None</td>\n",
       "      <td>None</td>\n",
       "    </tr>\n",
       "  </tbody>\n",
       "</table>\n",
       "</div>"
      ],
      "text/plain": [
       "                                       5   \\\n",
       "0       b,947383,824498,-0.523103,1.64421   \n",
       "1  j,1.06946e+06,751597,0.858186,-1.84217   \n",
       "2        j,676000,640429,0.33045,0.704554   \n",
       "3       j,936707,616229,0.973383,-1.56592   \n",
       "4        j,640313,589524,0.390749,1.23734   \n",
       "\n",
       "                                      6                                    7   \\\n",
       "0       j,258722,243675,0.328962,2.25014     j,520092,108590,-2.2473,-1.85679   \n",
       "1        j,457647,110079,2.10287,2.17501   j,49649.1,30875.2,-1.03189,-1.7992   \n",
       "2  j,1.2393e+06,602104,1.34324,-0.550856  j,193865,44825.7,-2.14231,-0.965933   \n",
       "3     j,75998,52304.3,0.905489,-0.806736                                        \n",
       "4       j,332790,126272,1.61998,-1.85524                                        \n",
       "\n",
       "                                     8                                   9   \\\n",
       "0     j,383024,88405.6,2.14516,-1.95635  j,39507.6,35365.1,0.47046,-1.16445   \n",
       "1                                                                      None   \n",
       "2  j,28217.2,24926.6,-0.454264,0.516676                                       \n",
       "3                                  None                                None   \n",
       "4                                  None                                None   \n",
       "\n",
       "                                   10    11    12    13    14    15    16  \\\n",
       "0  j,225430,26878.2,-2.81608,-2.25938        None  None  None  None  None   \n",
       "1                                None  None  None  None  None  None  None   \n",
       "2                                None  None  None  None  None  None  None   \n",
       "3                                None  None  None  None  None  None  None   \n",
       "4                                None  None  None  None  None  None  None   \n",
       "\n",
       "     17  \n",
       "0  None  \n",
       "1  None  \n",
       "2  None  \n",
       "3  None  \n",
       "4  None  "
      ]
     },
     "execution_count": 2,
     "metadata": {},
     "output_type": "execute_result"
    }
   ],
   "source": [
    "import pandas as pd\n",
    "\n",
    "df = pd.read_csv('monojet_Zp2000.0_DM_50.0_chan3.csv', header=None, sep='\\n')\n",
    "df = df[0].str.split(';', expand=True).iloc[:,5:]\n",
    "df.head()"
   ]
  },
  {
   "cell_type": "code",
   "execution_count": 3,
   "metadata": {
    "id": "_Bt79BlBHJsa"
   },
   "outputs": [],
   "source": [
    "import numpy as np\n",
    "\n",
    "all_objects = []\n",
    "for row in df.values:\n",
    "    for obj in row:\n",
    "        if obj is not None:\n",
    "            obj_splited = obj.split(',')\n",
    "            if obj_splited[0] == 'j':\n",
    "                all_objects.append(obj_splited[1:])\n",
    "all_objects = np.array(all_objects, dtype=float)"
   ]
  },
  {
   "cell_type": "code",
   "execution_count": 30,
   "metadata": {},
   "outputs": [
    {
     "data": {
      "text/plain": [
       "array([[ 2.58722e+05,  2.43675e+05,  3.28962e-01,  2.25014e+00],\n",
       "       [ 5.20092e+05,  1.08590e+05, -2.24730e+00, -1.85679e+00],\n",
       "       [ 3.83024e+05,  8.84056e+04,  2.14516e+00, -1.95635e+00],\n",
       "       ...,\n",
       "       [ 1.53340e+05,  4.39315e+04,  1.92014e+00, -2.37382e-01],\n",
       "       [ 8.93689e+05,  7.42040e+05, -6.18057e-01, -3.10466e+00],\n",
       "       [ 1.07526e+05,  1.06995e+05, -4.85649e-02,  2.43606e+00]])"
      ]
     },
     "execution_count": 30,
     "metadata": {},
     "output_type": "execute_result"
    }
   ],
   "source": [
    "all_objects"
   ]
  },
  {
   "cell_type": "code",
   "execution_count": 31,
   "metadata": {},
   "outputs": [
    {
     "data": {
      "text/plain": [
       "(22661, 4)"
      ]
     },
     "execution_count": 31,
     "metadata": {},
     "output_type": "execute_result"
    }
   ],
   "source": [
    "all_objects.shape"
   ]
  },
  {
   "cell_type": "markdown",
   "metadata": {},
   "source": [
    "I will follow the same normalization method used on the data in the example:\n",
    "1. log10(GeV) for \"E\"\n",
    "2. log10(GeV) for \"Pt\"\n",
    "3. rand/5 for \"eta\"\n",
    "4. rand/3 for \"phi\""
   ]
  },
  {
   "cell_type": "code",
   "execution_count": 34,
   "metadata": {},
   "outputs": [],
   "source": [
    "all_objects_normalized = np.empty_like(all_objects)\n",
    "all_objects_normalized[:,0] = np.log10(all_objects[:,0])\n",
    "all_objects_normalized[:,1] = np.log10(all_objects[:,1])\n",
    "all_objects_normalized[:,2] = all_objects[:,2] / 5\n",
    "all_objects_normalized[:,3] = all_objects[:,2] / 3"
   ]
  },
  {
   "cell_type": "code",
   "execution_count": 36,
   "metadata": {},
   "outputs": [
    {
     "data": {
      "text/plain": [
       "(array([[ 5.41283336,  5.38681097,  0.0657924 ,  0.109654  ],\n",
       "        [ 5.71608017,  5.03578983, -0.44946   , -0.7491    ],\n",
       "        [ 5.58322599,  4.94647978,  0.429032  ,  0.71505333],\n",
       "        ...,\n",
       "        [ 5.18565546,  4.64277603,  0.384028  ,  0.64004667],\n",
       "        [ 5.95118641,  5.87042732, -0.1236114 , -0.206019  ],\n",
       "        [ 5.03151349,  5.02936348, -0.00971298, -0.0161883 ]]),\n",
       " (22661, 4))"
      ]
     },
     "execution_count": 36,
     "metadata": {},
     "output_type": "execute_result"
    }
   ],
   "source": [
    "all_objects_normalized, all_objects_normalized.shape"
   ]
  },
  {
   "cell_type": "code",
   "execution_count": 5,
   "metadata": {
    "id": "rLjKYRA6MdVd"
   },
   "outputs": [],
   "source": [
    "# from sklearn import preprocessing\n",
    "# all_objects_normalized = preprocessing.normalize(all_objects, axis=0)"
   ]
  },
  {
   "cell_type": "code",
   "execution_count": 37,
   "metadata": {
    "colab": {
     "base_uri": "https://localhost:8080/"
    },
    "id": "jwTmRrWlQm7p",
    "outputId": "c923788a-e0d1-4348-c245-a9f6058c12bd"
   },
   "outputs": [
    {
     "data": {
      "text/plain": [
       "((18128, 4), (4533, 4))"
      ]
     },
     "execution_count": 37,
     "metadata": {},
     "output_type": "execute_result"
    }
   ],
   "source": [
    "from sklearn.model_selection import train_test_split\n",
    "train, test = train_test_split(all_objects_normalized, test_size=0.20, random_state=42)\n",
    "train.shape, test.shape"
   ]
  },
  {
   "cell_type": "code",
   "execution_count": 38,
   "metadata": {
    "id": "a5IUyWKARJ78"
   },
   "outputs": [],
   "source": [
    "train = pd.DataFrame(train, columns=[\"E\",\"pt\",\"eta\",\"phi\"])\n",
    "test = pd.DataFrame(test, columns=[\"E\",\"pt\",\"eta\",\"phi\"])"
   ]
  },
  {
   "cell_type": "markdown",
   "metadata": {
    "id": "VO3mcE75ak5m"
   },
   "source": [
    "We take a pickle dataset, and open into Pandas (after importing pandas). Note that you have to change the paths to the directory where your processed files are. "
   ]
  },
  {
   "cell_type": "code",
   "execution_count": 10,
   "metadata": {
    "colab": {
     "base_uri": "https://localhost:8080/"
    },
    "id": "3SqzCpVSak5m",
    "outputId": "3cd5d2fa-9f91-4945-db35-3441d6465fec"
   },
   "outputs": [
    {
     "name": "stdout",
     "output_type": "stream",
     "text": [
      "Training sample:\n",
      "           E         pt       eta       phi\n",
      "0  11.298123  10.822935 -0.349047 -0.349047\n",
      "1  14.614827  13.482431  0.599470  0.599470\n",
      "2  13.810503  12.979806  0.490727  0.490727\n",
      "3  12.371006  10.963328  0.694790  0.694790\n",
      "4  13.348474  13.142248 -0.218154 -0.218154\n",
      "\n",
      "\n",
      "Testing sample:\n",
      "           E         pt       eta       phi\n",
      "0  11.868836  10.043471 -0.837267 -0.837267\n",
      "1  13.055396  11.959884  0.585920  0.585920\n",
      "2  11.826473  11.089582 -0.455033 -0.455033\n",
      "3  11.578947  10.532677  0.568423  0.568423\n",
      "4  14.377193  10.740625 -1.443177 -1.443177\n",
      "\n",
      "\n",
      "The number of entries in the training data: 18128\n",
      "The number of entries in the validation data: 4533\n"
     ]
    }
   ],
   "source": [
    "# To get an idea of the order of magnitude we are going to see in the plots we show the first elements \n",
    "# in the samples:\n",
    "print('Training sample:')\n",
    "print(train.head())\n",
    "\n",
    "print('\\n')\n",
    "\n",
    "print('Testing sample:')\n",
    "print(test.head())\n",
    "\n",
    "print('\\n')\n",
    "\n",
    "print('The number of entries in the training data:', len(train))\n",
    "print('The number of entries in the validation data:', len(test))"
   ]
  },
  {
   "cell_type": "markdown",
   "metadata": {
    "id": "cC0z0Cw_ak5n"
   },
   "source": [
    "Now we plot the data using the matplotlib library. The units reflect the normalization, but it's the shape that we care about. "
   ]
  },
  {
   "cell_type": "code",
   "execution_count": 39,
   "metadata": {
    "colab": {
     "base_uri": "https://localhost:8080/",
     "height": 1000
    },
    "id": "JAI5deTJak5n",
    "outputId": "d2ebab6c-c0ee-43b7-b3e4-57dda33dfd78"
   },
   "outputs": [
    {
     "data": {
      "image/png": "[encoded data removed]",
      "text/plain": [
       "<Figure size 432x288 with 1 Axes>"
      ]
     },
     "metadata": {
      "needs_background": "light"
     },
     "output_type": "display_data"
    },
    {
     "data": {
      "image/png": "[encoded data removed]",
      "text/plain": [
       "<Figure size 432x288 with 1 Axes>"
      ]
     },
     "metadata": {
      "needs_background": "light"
     },
     "output_type": "display_data"
    },
    {
     "data": {
      "image/png": "[encoded data removed]",
      "text/plain": [
       "<Figure size 432x288 with 1 Axes>"
      ]
     },
     "metadata": {
      "needs_background": "light"
     },
     "output_type": "display_data"
    },
    {
     "data": {
      "image/png": "[encoded data removed]",
      "text/plain": [
       "<Figure size 432x288 with 1 Axes>"
      ]
     },
     "metadata": {
      "needs_background": "light"
     },
     "output_type": "display_data"
    }
   ],
   "source": [
    "import matplotlib.pyplot as plt\n",
    "\n",
    "unit_list = ['[log(GeV)]','[log(GeV)]', '[rad/3]', '[rad/3]']#, '[log(GeV)]']\n",
    "variable_list = [r'$E$',r'$p_T$', r'$\\eta$', r'$\\phi$']#, r'$m$']\n",
    "\n",
    "branches=[\"E\",\"pt\",\"eta\",\"phi\"]#[\"pt\",\"eta\",\"phi\",\"m\"]\n",
    "\n",
    "n_bins = 100\n",
    "\n",
    "for kk in range(0,4):\n",
    "    n_hist_data, bin_edges, _ = plt.hist(train[branches[kk]], color='gray', label='Input', alpha=1, bins=n_bins)\n",
    "    plt.xlabel(xlabel=variable_list[kk] + ' ' + unit_list[kk])\n",
    "    plt.ylabel('# of events')\n",
    "    # plt.savefig(\"fourmomentum_\"+branches[kk],dpi=300)\n",
    "    plt.show()"
   ]
  },
  {
   "cell_type": "markdown",
   "metadata": {
    "id": "jJCrdTVCak5o"
   },
   "source": [
    "## Setting up the network"
   ]
  },
  {
   "cell_type": "markdown",
   "metadata": {
    "id": "feh-QvBsak5o"
   },
   "source": [
    "### Preparing the data"
   ]
  },
  {
   "cell_type": "markdown",
   "metadata": {
    "id": "Kffp81iKak5p"
   },
   "source": [
    "Adding the two datasets as TensorDatasets to PyTorch (also loading all other classes we'll need later)"
   ]
  },
  {
   "cell_type": "code",
   "execution_count": 40,
   "metadata": {
    "colab": {
     "base_uri": "https://localhost:8080/",
     "height": 367
    },
    "id": "e_hDXauXak5p",
    "outputId": "9330cc2d-17ce-4af1-cfc0-9a80dc87a119"
   },
   "outputs": [],
   "source": [
    "import torch\n",
    "import torch.nn as nn\n",
    "import torch.optim as optim\n",
    "import torch.utils.data\n",
    "from torch.autograd import Variable\n",
    "\n",
    "from torch.utils.data import TensorDataset\n",
    "from torch.utils.data import DataLoader\n",
    "\n",
    "from fastai import learner\n",
    "from fastai.data import core\n",
    "\n",
    "train_x = train\n",
    "test_x = test\n",
    "train_y = train_x  # y = x since we are building an autoencoder\n",
    "test_y = test_x\n",
    "\n",
    "# Constructs a tensor object of the data and wraps them in a TensorDataset object.\n",
    "train_ds = TensorDataset(torch.tensor(train_x.values, dtype=torch.float), torch.tensor(train_y.values, dtype=torch.float))\n",
    "valid_ds = TensorDataset(torch.tensor(test_x.values, dtype=torch.float), torch.tensor(test_y.values, dtype=torch.float))"
   ]
  },
  {
   "cell_type": "markdown",
   "metadata": {
    "id": "YYdkK0OEak5p"
   },
   "source": [
    "We now set things up to load the data, and we use a batch size that was optimized by previous students...note also that this is fastai v2, migration thanks to Jessica Lastow."
   ]
  },
  {
   "cell_type": "code",
   "execution_count": 41,
   "metadata": {
    "id": "s-URpWqNak5q"
   },
   "outputs": [],
   "source": [
    "bs = 256\n",
    "\n",
    "# Converts the TensorDataset into a DataLoader object and combines into one DataLoaders object (a basic wrapper\n",
    "# around several DataLoader objects). \n",
    "train_dl = DataLoader(train_ds, batch_size=bs, shuffle=True)\n",
    "valid_dl = DataLoader(valid_ds, batch_size=bs * 2)\n",
    "dls = core.DataLoaders(train_dl, valid_dl)"
   ]
  },
  {
   "cell_type": "markdown",
   "metadata": {
    "id": "vIcQSX7Oak5q"
   },
   "source": [
    "### Preparing the network"
   ]
  },
  {
   "cell_type": "markdown",
   "metadata": {
    "id": "eNvRJtjWak5q"
   },
   "source": [
    "Here we have an example network. Details aren't too important, as long as they match what was already trained for us...in this case we have a LeakyReLU, tanh activation function, and a number of layers that goes from 4 to 200 to 20 to 3 (number of features in the hidden layer that we pick for testing compression) and then back all the way to 4. "
   ]
  },
  {
   "cell_type": "code",
   "execution_count": 42,
   "metadata": {
    "id": "tAX5_zjTak5r",
    "outputId": "75beb51b-6ae3-4a8a-acc4-2b9394bef278"
   },
   "outputs": [
    {
     "data": {
      "text/plain": [
       "AE_3D_200_LeakyReLU(\n",
       "  (en1): Linear(in_features=4, out_features=256, bias=True)\n",
       "  (en2): Linear(in_features=256, out_features=128, bias=True)\n",
       "  (en3): Linear(in_features=128, out_features=32, bias=True)\n",
       "  (en4): Linear(in_features=32, out_features=3, bias=True)\n",
       "  (de1): Linear(in_features=3, out_features=32, bias=True)\n",
       "  (de2): Linear(in_features=32, out_features=128, bias=True)\n",
       "  (de3): Linear(in_features=128, out_features=256, bias=True)\n",
       "  (de4): Linear(in_features=256, out_features=4, bias=True)\n",
       "  (tanh): Tanh()\n",
       ")"
      ]
     },
     "execution_count": 42,
     "metadata": {},
     "output_type": "execute_result"
    }
   ],
   "source": [
    "class AE_3D_200_LeakyReLU(nn.Module):\n",
    "    def __init__(self, n_features=4):\n",
    "        super(AE_3D_200_LeakyReLU, self).__init__()\n",
    "        self.en1 = nn.Linear(n_features, 256)\n",
    "        self.en2 = nn.Linear(256, 128)\n",
    "        self.en3 = nn.Linear(128, 32)\n",
    "        self.en4 = nn.Linear(32, 3)\n",
    "        self.de1 = nn.Linear(3, 32)\n",
    "        self.de2 = nn.Linear(32, 128)\n",
    "        self.de3 = nn.Linear(128, 256)\n",
    "        self.de4 = nn.Linear(256, n_features)\n",
    "        self.tanh = nn.Tanh()\n",
    "\n",
    "    def encode(self, x):\n",
    "        return self.en4(self.tanh(self.en3(self.tanh(self.en2(self.tanh(self.en1(x)))))))\n",
    "\n",
    "    def decode(self, x):\n",
    "        return self.de4(self.tanh(self.de3(self.tanh(self.de2(self.tanh(self.de1(self.tanh(x))))))))\n",
    "\n",
    "    def forward(self, x):\n",
    "        z = self.encode(x)\n",
    "        return self.decode(z)\n",
    "\n",
    "    def describe(self):\n",
    "        return 'in-200-200-20-3-20-200-200-out'\n",
    "\n",
    "#model = AE_3D_200_LeakyReLU().double()\n",
    "model = AE_3D_200_LeakyReLU()\n",
    "model.to('cpu')"
   ]
  },
  {
   "cell_type": "markdown",
   "metadata": {
    "id": "6fOfIhnhak5s"
   },
   "source": [
    "We now have to pick a loss function - MSE loss is appropriate for a compression autoencoder since it reflects the [(input-output)/input] physical quantity that we want to minimize. "
   ]
  },
  {
   "cell_type": "code",
   "execution_count": 43,
   "metadata": {
    "id": "znE2ybbDak5s"
   },
   "outputs": [],
   "source": [
    "from fastai.metrics import mse\n",
    "\n",
    "loss_func = nn.MSELoss()\n",
    "\n",
    "#bn_wd = False  # Don't use weight decay for batchnorm layers\n",
    "#true_wd = True  # weight decay will be used for all optimizers\n",
    "wd = 1e-6\n",
    "\n",
    "recorder = learner.Recorder()\n",
    "learn = learner.Learner(dls, model=model, wd=wd, loss_func=loss_func, cbs=recorder)\n",
    "#was: learn = basic_train.Learner(data=db, model=model, loss_func=loss_func, wd=wd, callback_fns=ActivationStats, bn_wd=bn_wd, true_wd=true_wd)"
   ]
  },
  {
   "cell_type": "markdown",
   "metadata": {
    "id": "kpx26iDeak5s"
   },
   "source": [
    "## Alternative 1: Running a pre-trained network"
   ]
  },
  {
   "cell_type": "markdown",
   "metadata": {
    "id": "6V5hg2tVak5s"
   },
   "source": [
    "Now we load the pre-trained network. "
   ]
  },
  {
   "cell_type": "code",
   "execution_count": null,
   "metadata": {
    "id": "Xc0_BT11ak5t",
    "outputId": "5840a149-659f-4119-de7c-453666e85c3e"
   },
   "outputs": [
    {
     "data": {
      "text/plain": [
       "<fastai.learner.Learner at 0x13de28520>"
      ]
     },
     "execution_count": 143,
     "metadata": {
      "tags": []
     },
     "output_type": "execute_result"
    }
   ],
   "source": [
    "learn.load(\"4D_TLA_leading\")"
   ]
  },
  {
   "cell_type": "markdown",
   "metadata": {
    "id": "ZGHSszrZak5t"
   },
   "source": [
    "Then we evaluate the MSE on this network - it should be of the order of 0.001 or less if all has gone well...if it has not trained as well (note the pesky 0-mass peak above...) then it's going to be a bit higher."
   ]
  },
  {
   "cell_type": "code",
   "execution_count": null,
   "metadata": {
    "id": "fgYVAk7Gak5t",
    "outputId": "226b4063-65d1-4973-cad9-5b227d94f03d"
   },
   "outputs": [
    {
     "data": {
      "text/plain": [
       "(#1) [0.03943768888711929]"
      ]
     },
     "execution_count": 144,
     "metadata": {
      "tags": []
     },
     "output_type": "execute_result"
    }
   ],
   "source": [
    "learn.validate()"
   ]
  },
  {
   "cell_type": "markdown",
   "metadata": {
    "id": "_fAwIlMRak5u"
   },
   "source": [
    "## Alternative 2: Training a new network"
   ]
  },
  {
   "cell_type": "markdown",
   "metadata": {
    "id": "_m56pmVlak5v"
   },
   "source": [
    "Instead of using a pre-trained network, an alternative is to train a new network and use that instead. "
   ]
  },
  {
   "cell_type": "markdown",
   "metadata": {
    "id": "7YOOgA-mak5v"
   },
   "source": [
    "First, we want to find the best learning rate. The learning rate is a hyper-paramater that sets how much the weights of the network will change each step with respect to the loss gradient.\n",
    "\n",
    "Then we plot the loss versus the learning rates. We're interested in finding a good order of magnitude of learning rate, so we plot with a log scale.\n",
    "\n",
    "A good value for the learning rates is then either:\n",
    "- one tenth of the minimum before the divergence\n",
    "- when the slope is the steepest"
   ]
  },
  {
   "cell_type": "code",
   "execution_count": 44,
   "metadata": {
    "id": "7xunOdNuak5v",
    "outputId": "920ca71b-2a82-4e7c-f6e6-6cbf47c27bc4"
   },
   "outputs": [
    {
     "name": "stdout",
     "output_type": "stream",
     "text": [
      "Learning rate with the minimum loss: 0.010000000149011612\n",
      "Learning rate with the steepest gradient: 0.002511886414140463\n"
     ]
    },
    {
     "data": {
      "image/png": "[encoded data removed]",
      "text/plain": [
       "<Figure size 432x288 with 1 Axes>"
      ]
     },
     "metadata": {
      "needs_background": "light"
     },
     "output_type": "display_data"
    }
   ],
   "source": [
    "from fastai.callback import schedule\n",
    "\n",
    "lr_min, lr_steep = learn.lr_find()\n",
    "\n",
    "print('Learning rate with the minimum loss:', lr_min)\n",
    "print('Learning rate with the steepest gradient:', lr_steep)"
   ]
  },
  {
   "cell_type": "markdown",
   "metadata": {
    "id": "j2AWvGN_ak5w"
   },
   "source": [
    "Now we want to run the training!\n",
    "\n",
    "User-chosen variables:\n",
    "- n_epoch: The number of epochs, i.e how many times the to run through all of the training data once (i.e the 1266046 entries, see cell 2)\n",
    "- lr: The learning rate. Either choose lr_min, lr_steep from above or set your own.\n"
   ]
  },
  {
   "cell_type": "code",
   "execution_count": 45,
   "metadata": {
    "id": "ZXswD7gzak5w",
    "outputId": "e9a70c14-f867-41d5-d4bd-b75836f672fb"
   },
   "outputs": [
    {
     "name": "stdout",
     "output_type": "stream",
     "text": [
      "[0, 2.6848220825195312, 0.41052889823913574, '00:00']\n",
      "[0, 2.6848220825195312, 0.41052889823913574, '00:00']\n",
      "[1, 0.703727126121521, 0.20427799224853516, '00:01']\n",
      "[1, 0.703727126121521, 0.20427799224853516, '00:01']\n",
      "[2, 0.3145690858364105, 0.20146435499191284, '00:00']\n",
      "[2, 0.3145690858364105, 0.20146435499191284, '00:00']\n",
      "[3, 0.22650212049484253, 0.20234450697898865, '00:00']\n",
      "[3, 0.22650212049484253, 0.20234450697898865, '00:00']\n",
      "[4, 0.20398670434951782, 0.19104862213134766, '00:00']\n",
      "[4, 0.20398670434951782, 0.19104862213134766, '00:00']\n",
      "[5, 0.14091570675373077, 0.11136028170585632, '00:00']\n",
      "[5, 0.14091570675373077, 0.11136028170585632, '00:00']\n",
      "[6, 0.11713392287492752, 0.10350639373064041, '00:00']\n",
      "[6, 0.11713392287492752, 0.10350639373064041, '00:00']\n",
      "[7, 0.05215056613087654, 0.004430221393704414, '00:00']\n",
      "[7, 0.05215056613087654, 0.004430221393704414, '00:00']\n",
      "[8, 0.016539817675948143, 0.01842840202152729, '00:00']\n",
      "[8, 0.016539817675948143, 0.01842840202152729, '00:00']\n",
      "[9, 0.007482677232474089, 0.015016994439065456, '00:00']\n",
      "[9, 0.007482677232474089, 0.015016994439065456, '00:00']\n",
      "[10, 0.006992420647293329, 0.014690220355987549, '00:00']\n",
      "[10, 0.006992420647293329, 0.014690220355987549, '00:00']\n",
      "[11, 0.009791210293769836, 0.011000134982168674, '00:00']\n",
      "[11, 0.009791210293769836, 0.011000134982168674, '00:00']\n",
      "[12, 0.01409880630671978, 0.024038584902882576, '00:00']\n",
      "[12, 0.01409880630671978, 0.024038584902882576, '00:00']\n",
      "[13, 0.011554703116416931, 0.012316352687776089, '00:00']\n",
      "[13, 0.011554703116416931, 0.012316352687776089, '00:00']\n",
      "[14, 0.011664383113384247, 0.024783305823802948, '00:00']\n",
      "[14, 0.011664383113384247, 0.024783305823802948, '00:00']\n",
      "[15, 0.019216638058423996, 0.019691694527864456, '00:00']\n",
      "[15, 0.019216638058423996, 0.019691694527864456, '00:00']\n",
      "[16, 0.01529524102807045, 0.013334274291992188, '00:00']\n",
      "[16, 0.01529524102807045, 0.013334274291992188, '00:00']\n",
      "[17, 0.02909558266401291, 0.04070665314793587, '00:00']\n",
      "[17, 0.02909558266401291, 0.04070665314793587, '00:00']\n",
      "[18, 0.024977359920740128, 0.011327234096825123, '00:00']\n",
      "[18, 0.024977359920740128, 0.011327234096825123, '00:00']\n",
      "[19, 0.029756557196378708, 0.009376605972647667, '00:00']\n",
      "[19, 0.029756557196378708, 0.009376605972647667, '00:00']\n",
      "[20, 0.01657775044441223, 0.004077458754181862, '00:00']\n",
      "[20, 0.01657775044441223, 0.004077458754181862, '00:00']\n",
      "[21, 0.024777937680482864, 0.034636061638593674, '00:00']\n",
      "[21, 0.024777937680482864, 0.034636061638593674, '00:00']\n",
      "[22, 0.01625707559287548, 0.03588137403130531, '00:00']\n",
      "[22, 0.01625707559287548, 0.03588137403130531, '00:00']\n",
      "[23, 0.015265239402651787, 0.01406809501349926, '00:00']\n",
      "[23, 0.015265239402651787, 0.01406809501349926, '00:00']\n",
      "[24, 0.020354291424155235, 0.011019608937203884, '00:00']\n",
      "[24, 0.020354291424155235, 0.011019608937203884, '00:00']\n",
      "[25, 0.012886062264442444, 0.0014709216775372624, '00:00']\n",
      "[25, 0.012886062264442444, 0.0014709216775372624, '00:00']\n",
      "[26, 0.010961691848933697, 0.005240296944975853, '00:00']\n",
      "[26, 0.010961691848933697, 0.005240296944975853, '00:00']\n",
      "[27, 0.1164897009730339, 0.0956723615527153, '00:00']\n",
      "[27, 0.1164897009730339, 0.0956723615527153, '00:00']\n",
      "[28, 0.10531779378652573, 0.0675782784819603, '00:00']\n",
      "[28, 0.10531779378652573, 0.0675782784819603, '00:00']\n",
      "[29, 0.05362207442522049, 0.006812674459069967, '00:00']\n",
      "[29, 0.05362207442522049, 0.006812674459069967, '00:00']\n",
      "[30, 0.043653249740600586, 0.01817026361823082, '00:01']\n",
      "[30, 0.043653249740600586, 0.01817026361823082, '00:01']\n",
      "[31, 0.0194268636405468, 0.00941415410488844, '00:00']\n",
      "[31, 0.0194268636405468, 0.00941415410488844, '00:00']\n",
      "[32, 0.016941068693995476, 0.006689124274998903, '00:00']\n",
      "[32, 0.016941068693995476, 0.006689124274998903, '00:00']\n",
      "[33, 0.01629038341343403, 0.00394637044519186, '00:00']\n",
      "[33, 0.01629038341343403, 0.00394637044519186, '00:00']\n",
      "[34, 0.015215556137263775, 0.02401176653802395, '00:00']\n",
      "[34, 0.015215556137263775, 0.02401176653802395, '00:00']\n",
      "[35, 0.011052042245864868, 0.01114451140165329, '00:00']\n",
      "[35, 0.011052042245864868, 0.01114451140165329, '00:00']\n",
      "[36, 0.009735346771776676, 0.014528277330100536, '00:00']\n",
      "[36, 0.009735346771776676, 0.014528277330100536, '00:00']\n",
      "[37, 0.0072313095442950726, 0.013636184856295586, '00:00']\n",
      "[37, 0.0072313095442950726, 0.013636184856295586, '00:00']\n",
      "[38, 0.013151426799595356, 0.007422327063977718, '00:00']\n",
      "[38, 0.013151426799595356, 0.007422327063977718, '00:00']\n",
      "[39, 0.006856146734207869, 0.005243894178420305, '00:01']\n",
      "[39, 0.006856146734207869, 0.005243894178420305, '00:01']\n",
      "[40, 0.008358893916010857, 0.004192653577774763, '00:00']\n",
      "[40, 0.008358893916010857, 0.004192653577774763, '00:00']\n",
      "[41, 0.006570058409124613, 0.012217697687447071, '00:00']\n",
      "[41, 0.006570058409124613, 0.012217697687447071, '00:00']\n",
      "[42, 0.006339923478662968, 0.003549672896042466, '00:00']\n",
      "[42, 0.006339923478662968, 0.003549672896042466, '00:00']\n",
      "[43, 0.0051323166117072105, 0.012922641821205616, '00:00']\n",
      "[43, 0.0051323166117072105, 0.012922641821205616, '00:00']\n",
      "[44, 0.004793739877641201, 0.0012531840475276113, '00:00']\n",
      "[44, 0.004793739877641201, 0.0012531840475276113, '00:00']\n",
      "[45, 0.005803471896797419, 0.0008798883063718677, '00:00']\n",
      "[45, 0.005803471896797419, 0.0008798883063718677, '00:00']\n",
      "[46, 0.004217679146677256, 0.009186708368360996, '00:00']\n",
      "[46, 0.004217679146677256, 0.009186708368360996, '00:00']\n",
      "[47, 0.0038062194362282753, 0.005340458359569311, '00:00']\n",
      "[47, 0.0038062194362282753, 0.005340458359569311, '00:00']\n",
      "[48, 0.00326384580694139, 0.006938216742128134, '00:01']\n",
      "[48, 0.00326384580694139, 0.006938216742128134, '00:01']\n",
      "[49, 0.004616379737854004, 0.0007452464778907597, '00:01']\n",
      "[49, 0.004616379737854004, 0.0007452464778907597, '00:01']\n",
      "[50, 0.004873231053352356, 0.007914755493402481, '00:00']\n",
      "[50, 0.004873231053352356, 0.007914755493402481, '00:00']\n",
      "[51, 0.0021123660262674093, 0.0004637321981135756, '00:00']\n",
      "[51, 0.0021123660262674093, 0.0004637321981135756, '00:00']\n",
      "[52, 0.0023490299936383963, 0.001942344824783504, '00:00']\n",
      "[52, 0.0023490299936383963, 0.001942344824783504, '00:00']\n",
      "[53, 0.002365770749747753, 0.0007284614257514477, '00:00']\n",
      "[53, 0.002365770749747753, 0.0007284614257514477, '00:00']\n",
      "[54, 0.002252711681649089, 0.006034616380929947, '00:00']\n",
      "[54, 0.002252711681649089, 0.006034616380929947, '00:00']\n",
      "[55, 0.0017175981774926186, 0.001709196949377656, '00:00']\n",
      "[55, 0.0017175981774926186, 0.001709196949377656, '00:00']\n",
      "[56, 0.0019946126267313957, 0.001873351284302771, '00:00']\n",
      "[56, 0.0019946126267313957, 0.001873351284302771, '00:00']\n",
      "[57, 0.0017914960626512766, 0.0016531648579984903, '00:00']\n",
      "[57, 0.0017914960626512766, 0.0016531648579984903, '00:00']\n",
      "[58, 0.0011345234233886003, 0.00046327890595421195, '00:00']\n",
      "[58, 0.0011345234233886003, 0.00046327890595421195, '00:00']\n",
      "[59, 0.0011162644950672984, 0.00015860093117225915, '00:00']\n",
      "[59, 0.0011162644950672984, 0.00015860093117225915, '00:00']\n",
      "[60, 0.00146347691770643, 0.00025605413247831166, '00:00']\n",
      "[60, 0.00146347691770643, 0.00025605413247831166, '00:00']\n",
      "[61, 0.0007873961003497243, 0.0011731269769370556, '00:00']\n",
      "[61, 0.0007873961003497243, 0.0011731269769370556, '00:00']\n",
      "[62, 0.0006233927560970187, 0.00020304361532907933, '00:00']\n",
      "[62, 0.0006233927560970187, 0.00020304361532907933, '00:00']\n",
      "[63, 0.0006984489737078547, 0.0001927804696606472, '00:00']\n",
      "[63, 0.0006984489737078547, 0.0001927804696606472, '00:00']\n",
      "[64, 0.0005123372538946569, 0.0001299095747526735, '00:00']\n",
      "[64, 0.0005123372538946569, 0.0001299095747526735, '00:00']\n",
      "[65, 0.0004859993641730398, 0.00020525541913229972, '00:00']\n",
      "[65, 0.0004859993641730398, 0.00020525541913229972, '00:00']\n",
      "[66, 0.0003782199346460402, 0.0001328781945630908, '00:00']\n",
      "[66, 0.0003782199346460402, 0.0001328781945630908, '00:00']\n",
      "[67, 0.00038301211316138506, 0.000616267032455653, '00:00']\n",
      "[67, 0.00038301211316138506, 0.000616267032455653, '00:00']\n",
      "[68, 0.0003627232799772173, 0.0003290358872618526, '00:00']\n",
      "[68, 0.0003627232799772173, 0.0003290358872618526, '00:00']\n",
      "[69, 0.0002882217522710562, 0.000346255925251171, '00:01']\n",
      "[69, 0.0002882217522710562, 0.000346255925251171, '00:01']\n",
      "[70, 0.00022493579308502376, 8.283567149192095e-05, '00:01']\n",
      "[70, 0.00022493579308502376, 8.283567149192095e-05, '00:01']\n"
     ]
    },
    {
     "name": "stdout",
     "output_type": "stream",
     "text": [
      "[71, 0.00033052198705263436, 0.0003158824983984232, '00:01']\n",
      "[71, 0.00033052198705263436, 0.0003158824983984232, '00:01']\n",
      "[72, 0.0001698143023531884, 0.00012803424033336341, '00:00']\n",
      "[72, 0.0001698143023531884, 0.00012803424033336341, '00:00']\n",
      "[73, 0.00012051525118295103, 0.0001165651046903804, '00:01']\n",
      "[73, 0.00012051525118295103, 0.0001165651046903804, '00:01']\n",
      "[74, 0.00015265670663211495, 0.00014044472482055426, '00:01']\n",
      "[74, 0.00015265670663211495, 0.00014044472482055426, '00:01']\n",
      "[75, 0.00010822580225067213, 4.238004476064816e-05, '00:01']\n",
      "[75, 0.00010822580225067213, 4.238004476064816e-05, '00:01']\n",
      "[76, 9.945497004082426e-05, 9.96824965113774e-05, '00:01']\n",
      "[76, 9.945497004082426e-05, 9.96824965113774e-05, '00:01']\n",
      "[77, 8.283047645818442e-05, 6.845135794719681e-05, '00:00']\n",
      "[77, 8.283047645818442e-05, 6.845135794719681e-05, '00:00']\n",
      "[78, 6.492615648312494e-05, 6.895552360219881e-05, '00:00']\n",
      "[78, 6.492615648312494e-05, 6.895552360219881e-05, '00:00']\n",
      "[79, 6.585988739971071e-05, 4.568251461023465e-05, '00:00']\n",
      "[79, 6.585988739971071e-05, 4.568251461023465e-05, '00:00']\n",
      "[80, 5.521272760233842e-05, 3.152305362164043e-05, '00:01']\n",
      "[80, 5.521272760233842e-05, 3.152305362164043e-05, '00:01']\n",
      "[81, 3.7645757402060553e-05, 3.457597631495446e-05, '00:01']\n",
      "[81, 3.7645757402060553e-05, 3.457597631495446e-05, '00:01']\n",
      "[82, 3.7377489206846803e-05, 2.4182521883631125e-05, '00:01']\n",
      "[82, 3.7377489206846803e-05, 2.4182521883631125e-05, '00:01']\n",
      "[83, 3.5790206311503425e-05, 3.579474287107587e-05, '00:01']\n",
      "[83, 3.5790206311503425e-05, 3.579474287107587e-05, '00:01']\n",
      "[84, 3.1544961530016735e-05, 1.9511331629473716e-05, '00:00']\n",
      "[84, 3.1544961530016735e-05, 1.9511331629473716e-05, '00:00']\n",
      "[85, 2.5119190468103625e-05, 1.821832665882539e-05, '00:00']\n",
      "[85, 2.5119190468103625e-05, 1.821832665882539e-05, '00:00']\n",
      "[86, 2.287958159286063e-05, 1.8222775906906463e-05, '00:00']\n",
      "[86, 2.287958159286063e-05, 1.8222775906906463e-05, '00:00']\n",
      "[87, 2.0937219233019277e-05, 1.7055886928574182e-05, '00:01']\n",
      "[87, 2.0937219233019277e-05, 1.7055886928574182e-05, '00:01']\n",
      "[88, 2.130327447957825e-05, 1.5131384316191543e-05, '00:00']\n",
      "[88, 2.130327447957825e-05, 1.5131384316191543e-05, '00:00']\n",
      "[89, 1.7907483197632246e-05, 1.6772522940300405e-05, '00:00']\n",
      "[89, 1.7907483197632246e-05, 1.6772522940300405e-05, '00:00']\n",
      "[90, 1.7817161278799176e-05, 1.6161729945451953e-05, '00:00']\n",
      "[90, 1.7817161278799176e-05, 1.6161729945451953e-05, '00:00']\n",
      "[91, 1.6388677977374755e-05, 1.5294635886675678e-05, '00:00']\n",
      "[91, 1.6388677977374755e-05, 1.5294635886675678e-05, '00:00']\n",
      "[92, 1.5644673112547025e-05, 1.4334118532133289e-05, '00:01']\n",
      "[92, 1.5644673112547025e-05, 1.4334118532133289e-05, '00:01']\n",
      "[93, 1.4532691238855477e-05, 1.4532780369336251e-05, '00:00']\n",
      "[93, 1.4532691238855477e-05, 1.4532780369336251e-05, '00:00']\n",
      "[94, 1.45687145050033e-05, 1.3569171642302535e-05, '00:00']\n",
      "[94, 1.45687145050033e-05, 1.3569171642302535e-05, '00:00']\n",
      "[95, 1.4037498658581171e-05, 1.3556414160120767e-05, '00:01']\n",
      "[95, 1.4037498658581171e-05, 1.3556414160120767e-05, '00:01']\n",
      "[96, 1.3288628906593658e-05, 1.2848619917349424e-05, '00:01']\n",
      "[96, 1.3288628906593658e-05, 1.2848619917349424e-05, '00:01']\n",
      "[97, 1.3169887097319588e-05, 1.2658786545216572e-05, '00:01']\n",
      "[97, 1.3169887097319588e-05, 1.2658786545216572e-05, '00:01']\n",
      "[98, 1.2986063666176051e-05, 1.2538669579953421e-05, '00:00']\n",
      "[98, 1.2986063666176051e-05, 1.2538669579953421e-05, '00:00']\n",
      "[99, 1.2932172467117198e-05, 1.2488051652326249e-05, '00:00']\n",
      "[99, 1.2932172467117198e-05, 1.2488051652326249e-05, '00:00']\n",
      "Training took 89.14882248300091 seconds\n"
     ]
    }
   ],
   "source": [
    "import time\n",
    "\n",
    "start = time.perf_counter() # Starts timer\n",
    "learn.fit_one_cycle(100, lr_min)\n",
    "end = time.perf_counter() # Ends timer\n",
    "delta_t = end - start\n",
    "print('Training took', delta_t, 'seconds')"
   ]
  },
  {
   "cell_type": "markdown",
   "metadata": {
    "id": "ufkxLCl2ak5x"
   },
   "source": [
    "Then we plot the loss as a function of batches and epochs to check if we reach a plateau."
   ]
  },
  {
   "cell_type": "code",
   "execution_count": 46,
   "metadata": {
    "id": "s5PWOxqQak5x",
    "outputId": "975ca3c3-96fb-40c1-9d4d-50d700fede3f"
   },
   "outputs": [
    {
     "data": {
      "image/png": "[encoded data removed]",
      "text/plain": [
       "<Figure size 432x288 with 1 Axes>"
      ]
     },
     "metadata": {
      "needs_background": "light"
     },
     "output_type": "display_data"
    }
   ],
   "source": [
    "recorder.plot_loss()"
   ]
  },
  {
   "cell_type": "markdown",
   "metadata": {
    "id": "7BEYQeWLak5y"
   },
   "source": [
    "Then we evaluate the MSE on this network - it should be of the order of 0.001 or less if all has gone well...if it has not trained as well (note the pesky 0-mass peak above...) then it's going to be a bit higher."
   ]
  },
  {
   "cell_type": "code",
   "execution_count": 47,
   "metadata": {
    "id": "S6BsY9psak5y",
    "outputId": "2499dfb3-05f2-40c0-a166-cd7599b66a4c"
   },
   "outputs": [
    {
     "data": {
      "text/plain": [
       "(#1) [1.2488051652326249e-05]"
      ]
     },
     "execution_count": 47,
     "metadata": {},
     "output_type": "execute_result"
    }
   ],
   "source": [
    "learn.validate()"
   ]
  },
  {
   "cell_type": "markdown",
   "metadata": {
    "id": "Sm_d200mak5y"
   },
   "source": [
    "Let's plot all of this, with ratios (thanks to code by Erik Wallin)"
   ]
  },
  {
   "cell_type": "markdown",
   "metadata": {
    "id": "3zva2wplak5z"
   },
   "source": [
    "## Plotting the outputs of the network"
   ]
  },
  {
   "cell_type": "markdown",
   "metadata": {
    "id": "bPD0jWwLak5z"
   },
   "source": [
    "Lazy-save of our output files (they'll also be on screen)"
   ]
  },
  {
   "cell_type": "code",
   "execution_count": 48,
   "metadata": {
    "id": "Sv7musafak5z"
   },
   "outputs": [],
   "source": [
    "import os\n",
    "save_dir = \"plotOutput\"\n",
    "if not os.path.exists(save_dir):\n",
    "    os.makedirs(save_dir)"
   ]
  },
  {
   "cell_type": "markdown",
   "metadata": {
    "id": "1CRe-iDbak5z"
   },
   "source": [
    "A function in case we want to un-normalize and get back to physical quantities..."
   ]
  },
  {
   "cell_type": "code",
   "execution_count": 49,
   "metadata": {
    "id": "t18_mFriak5z"
   },
   "outputs": [],
   "source": [
    "def custom_unnormalize(df):\n",
    "    df['eta'] = df['eta'] * 5\n",
    "    df['phi'] = df['phi'] * 3\n",
    "    df['E'] = 10**df['E']\n",
    "#     df['m'] = 10**df['m']\n",
    "    df['pt'] = 10**(df['pt'])\n",
    "    return df"
   ]
  },
  {
   "cell_type": "markdown",
   "metadata": {
    "id": "DWayrW9wak5z"
   },
   "source": [
    "Make the histograms from the dataset..."
   ]
  },
  {
   "cell_type": "code",
   "execution_count": 51,
   "metadata": {
    "id": "5J1FOsQrak50",
    "outputId": "f5153236-101e-4f39-ea13-1b816e56c705"
   },
   "outputs": [
    {
     "data": {
      "image/png": "[encoded data removed]",
      "text/plain": [
       "<Figure size 432x288 with 1 Axes>"
      ]
     },
     "metadata": {
      "needs_background": "light"
     },
     "output_type": "display_data"
    },
    {
     "data": {
      "image/png": "[encoded data removed]",
      "text/plain": [
       "<Figure size 432x288 with 1 Axes>"
      ]
     },
     "metadata": {
      "needs_background": "light"
     },
     "output_type": "display_data"
    },
    {
     "data": {
      "image/png": "[encoded data removed]",
      "text/plain": [
       "<Figure size 432x288 with 1 Axes>"
      ]
     },
     "metadata": {
      "needs_background": "light"
     },
     "output_type": "display_data"
    },
    {
     "data": {
      "image/png": "[encoded data removed]",
      "text/plain": [
       "<Figure size 432x288 with 1 Axes>"
      ]
     },
     "metadata": {
      "needs_background": "light"
     },
     "output_type": "display_data"
    }
   ],
   "source": [
    "import numpy as np\n",
    "\n",
    "plt.close('all')\n",
    "unit_list = ['[GeV]', '[rad]', '[rad]', '[GeV]']\n",
    "variable_list = [r'$p_T$', r'$\\eta$', r'$\\phi$', r'$E$']\n",
    "line_style = ['--', '-']\n",
    "colors = ['orange', 'c']\n",
    "markers = ['*', 's']\n",
    "\n",
    "model.to('cpu')\n",
    "\n",
    "save = True # Option to save figure\n",
    "\n",
    "# Histograms\n",
    "idxs = (0, 100000)  # Choose events to compare\n",
    "data = torch.tensor(test[idxs[0]:idxs[1]].values, dtype=torch.float)\n",
    "#data = torch.tensor(test[idxs[0]:idxs[1]].values, dtype=torch.float).double()\n",
    "pred = model(data)\n",
    "pred = pred.detach().numpy()\n",
    "data = data.detach().numpy()\n",
    "\n",
    "data_df = pd.DataFrame(data, columns=test.columns)\n",
    "pred_df = pd.DataFrame(pred, columns=test.columns)\n",
    "\n",
    "# unnormalized_data_df = custom_unnormalize(data_df)\n",
    "# unnormalized_pred_df = custom_unnormalize(pred_df)    \n",
    "    \n",
    "alph = 0.8\n",
    "n_bins = 200\n",
    "for kk in np.arange(4):\n",
    "    plt.figure()\n",
    "    n_hist_data, bin_edges, _ = plt.hist(data[:, kk], color=colors[1], label='Input', alpha=1, bins=n_bins)\n",
    "    n_hist_pred, _, _ = plt.hist(pred[:, kk], color=colors[0], label='Output', alpha=alph, bins=bin_edges)\n",
    "    plt.suptitle(test.columns[kk])\n",
    "    plt.xlabel(test.columns[kk])\n",
    "    plt.ylabel('Number of events')\n",
    "    # ms.sciy()\n",
    "    plt.yscale('log')\n",
    "    if save:\n",
    "        plt.savefig(os.path.join(save_dir,test.columns[kk]+'.png'))\n",
    "    plt.legend()"
   ]
  },
  {
   "cell_type": "code",
   "execution_count": 52,
   "metadata": {
    "id": "jEExFWTrak50"
   },
   "outputs": [
    {
     "name": "stdout",
     "output_type": "stream",
     "text": [
      "[0.0, 0.0, 0.0, None, inf, 0.0, 1.0, None, 0.0, 0.0, 0.0, inf, -0.3333333333333333, 0.0, 1.0, -0.5, -0.14285714285714285, 0.5, 0.0, -0.25, 0.3333333333333333, -0.2222222222222222, 0.8, -0.4, 0.0, 0.0, 0.0, 0.0, 0.25, -0.1111111111111111, 0.0, 0.0, 0.0, 0.0, 0.0, 0.0, 0.0, 0.0, -0.2222222222222222, 0.09090909090909091, 0.25, 0.0, 0.125, -0.15384615384615385, 0.0, 0.2222222222222222, -0.3333333333333333, 0.25, -0.07142857142857142, 0.0, 0.058823529411764705, 0.16666666666666666, -0.15, 0.29411764705882354, -0.22727272727272727, 0.09090909090909091, -0.08, -0.09523809523809523, 0.13333333333333333, -0.05, 0.04, 0.06666666666666667, -0.10714285714285714, -0.03571428571428571, -0.041666666666666664, 0.13333333333333333, -0.16666666666666666, 0.14705882352941177, -0.07692307692307693, 0.075, -0.08823529411764706, 0.07142857142857142, -0.09090909090909091, 0.05714285714285714, 0.0, 0.05555555555555555, -0.047619047619047616, -0.030303030303030304, -0.046511627906976744, 0.13333333333333333, -0.09259259259259259, 0.08333333333333333, 0.023809523809523808, -0.0392156862745098, 0.07272727272727272, -0.05263157894736842, -0.01694915254237288, 0.03636363636363636, -0.08196721311475409, 0.017857142857142856, 0.0, -0.05555555555555555, -0.015151515151515152, 0.04, 0.022222222222222223, 0.03508771929824561, 0.03508771929824561, 0.03278688524590164, -0.05263157894736842, 0.05970149253731343, 0.09090909090909091, -0.08955223880597014, 0.0, -0.038461538461538464, -0.07017543859649122, -0.08771929824561403, 0.03278688524590164, -0.1206896551724138, 0.09803921568627451, 0.34615384615384615, 0.03125, -0.015625, -0.013333333333333334, -0.16666666666666666, -0.15, 0.05128205128205128, -0.06779661016949153, -0.038461538461538464, 0.07272727272727272, 0.0, 0.2, 0.0, 0.04081632653061224, 0.025, 0.07547169811320754, -0.02564102564102564, -0.2727272727272727, 0.05263157894736842, 0.15, -0.1956521739130435, 0.15151515151515152, -0.0625, -0.030303030303030304, 0.0, 0.03333333333333333, 0.038461538461538464, 0.0, -0.15625, 0.25, -0.20833333333333334, 0.125, 0.10526315789473684, -0.03225806451612903, 0.14814814814814814, 0.18181818181818182, -0.043478260869565216, -0.13636363636363635, 0.05555555555555555, -0.2, 0.0, 0.0625, -0.07142857142857142, 0.06666666666666667, 0.42857142857142855, -0.06666666666666667, 0.2857142857142857, 0.0, -0.125, 0.0, 0.2222222222222222, -0.2727272727272727, -0.09090909090909091, 0.16666666666666666, -0.09090909090909091, 0.2857142857142857, -0.07692307692307693, -0.2, 0.5, 0.6, -0.42857142857142855, 0.1111111111111111, -0.25, 0.0, 0.0, -0.2, 0.5, -0.2, 0.0, 0.5, -0.16666666666666666, 0.0, 1.0, -0.4, inf, -0.5, 1.0, None, 0.0, 0.0, None, 2.0, -0.3333333333333333, 1.0, -0.5, -0.3333333333333333, 1.0, None, inf, None, 0.0]\n"
     ]
    },
    {
     "name": "stderr",
     "output_type": "stream",
     "text": [
      "<ipython-input-52-b3b784bea00a>:9: RuntimeWarning: divide by zero encountered in double_scalars\n",
      "  bins.append((float(b2)-float(b1))/b1)\n"
     ]
    }
   ],
   "source": [
    "def getRatio(bin1,bin2):\n",
    "    bins = []\n",
    "    for b1,b2 in zip(bin1,bin2):\n",
    "        if b1==0 and b2==0:\n",
    "            bins.append(0.)\n",
    "        elif b2==0:\n",
    "            bins.append(None)\n",
    "        else:\n",
    "            bins.append((float(b2)-float(b1))/b1)\n",
    "    return bins   \n",
    "\n",
    "rat = getRatio(n_hist_data,n_hist_pred)\n",
    "print(rat)"
   ]
  },
  {
   "cell_type": "code",
   "execution_count": null,
   "metadata": {
    "id": "FsJ_rCPiak51"
   },
   "outputs": [],
   "source": []
  }
 ],
 "metadata": {
  "colab": {
   "name": "Copy of TLA_4D_Example.ipynb",
   "provenance": []
  },
  "kernelspec": {
   "display_name": "Python 3",
   "language": "python",
   "name": "python3"
  },
  "language_info": {
   "codemirror_mode": {
    "name": "ipython",
    "version": 3
   },
   "file_extension": ".py",
   "mimetype": "text/x-python",
   "name": "python",
   "nbconvert_exporter": "python",
   "pygments_lexer": "ipython3",
   "version": "3.8.5"
  }
 },
 "nbformat": 4,
 "nbformat_minor": 1
}
